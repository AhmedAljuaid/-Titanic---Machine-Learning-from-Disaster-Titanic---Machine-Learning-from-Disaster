{
 "cells": [
  {
   "cell_type": "code",
   "execution_count": 1,
   "id": "7b82af8c",
   "metadata": {
    "_cell_guid": "b1076dfc-b9ad-4769-8c92-a6c4dae69d19",
    "_uuid": "8f2839f25d086af736a60e9eeb907d3b93b6e0e5",
    "execution": {
     "iopub.execute_input": "2022-12-01T13:54:31.894063Z",
     "iopub.status.busy": "2022-12-01T13:54:31.893421Z",
     "iopub.status.idle": "2022-12-01T13:54:36.795325Z",
     "shell.execute_reply": "2022-12-01T13:54:36.793774Z"
    },
    "papermill": {
     "duration": 4.911215,
     "end_time": "2022-12-01T13:54:36.797958",
     "exception": false,
     "start_time": "2022-12-01T13:54:31.886743",
     "status": "completed"
    },
    "tags": []
   },
   "outputs": [],
   "source": [
    "import pathlib\n",
    "\n",
    "import numpy as np # linear algebra\n",
    "import pandas as pd # data processing, CSV file I/O (e.g. pd.read_csv)\n",
    "from sklearn import compose, impute, linear_model, model_selection, pipeline, preprocessing, metrics\n",
    "from sklearn.ensemble import GradientBoostingClassifier\n",
    "import torch\n",
    "from torch import nn, optim, utils\n",
    "import torchmetrics"
   ]
  },
  {
   "cell_type": "code",
   "execution_count": 2,
   "id": "c7eb0e46",
   "metadata": {
    "execution": {
     "iopub.execute_input": "2022-12-01T13:54:36.807730Z",
     "iopub.status.busy": "2022-12-01T13:54:36.806768Z",
     "iopub.status.idle": "2022-12-01T13:54:36.812069Z",
     "shell.execute_reply": "2022-12-01T13:54:36.810980Z"
    },
    "papermill": {
     "duration": 0.011922,
     "end_time": "2022-12-01T13:54:36.813739",
     "exception": false,
     "start_time": "2022-12-01T13:54:36.801817",
     "status": "completed"
    },
    "tags": []
   },
   "outputs": [],
   "source": [
    "INPUT_DIR = pathlib.Path(\"/kaggle/input/kaust-academy-ai-week-november-2022\")\n",
    "WORKING_DIR = pathlib.Path(\"/kaggle/working\")"
   ]
  },
  {
   "cell_type": "code",
   "execution_count": 3,
   "id": "60d12026",
   "metadata": {
    "execution": {
     "iopub.execute_input": "2022-12-01T13:54:36.822781Z",
     "iopub.status.busy": "2022-12-01T13:54:36.821716Z",
     "iopub.status.idle": "2022-12-01T13:54:37.110249Z",
     "shell.execute_reply": "2022-12-01T13:54:37.109000Z"
    },
    "papermill": {
     "duration": 0.295876,
     "end_time": "2022-12-01T13:54:37.113058",
     "exception": false,
     "start_time": "2022-12-01T13:54:36.817182",
     "status": "completed"
    },
    "tags": []
   },
   "outputs": [
    {
     "name": "stdout",
     "output_type": "stream",
     "text": [
      "total 1.2M\r\n",
      "-rw-r--r-- 1 nobody nogroup  59K Nov 27 05:24 sample_submission.csv\r\n",
      "-rw-r--r-- 1 nobody nogroup 364K Nov 27 05:24 test.csv\r\n",
      "-rw-r--r-- 1 nobody nogroup 787K Nov 27 05:24 train.csv\r\n"
     ]
    }
   ],
   "source": [
    "!ls -lh $INPUT_DIR"
   ]
  },
  {
   "cell_type": "code",
   "execution_count": 4,
   "id": "19b7804a",
   "metadata": {
    "execution": {
     "iopub.execute_input": "2022-12-01T13:54:37.122613Z",
     "iopub.status.busy": "2022-12-01T13:54:37.122170Z",
     "iopub.status.idle": "2022-12-01T13:54:37.192309Z",
     "shell.execute_reply": "2022-12-01T13:54:37.190840Z"
    },
    "papermill": {
     "duration": 0.077933,
     "end_time": "2022-12-01T13:54:37.194897",
     "exception": false,
     "start_time": "2022-12-01T13:54:37.116964",
     "status": "completed"
    },
    "tags": []
   },
   "outputs": [],
   "source": [
    "# Q1: load the training data\n",
    "_train_df = pd.read_csv(\n",
    "    INPUT_DIR/ \"train.csv\",\n",
    "    index_col = \"PassengerId\"\n",
    ")\n",
    "\n",
    "_seed = 42\n",
    "train_df, val_df = model_selection.train_test_split(\n",
    "    _train_df,\n",
    "    test_size=0.1,\n",
    "    random_state = np.random.RandomState(_seed),\n",
    "    stratify=_train_df.loc[:, \"Transported\"],\n",
    ")"
   ]
  },
  {
   "cell_type": "code",
   "execution_count": 5,
   "id": "a4fad9c3",
   "metadata": {
    "execution": {
     "iopub.execute_input": "2022-12-01T13:54:37.204406Z",
     "iopub.status.busy": "2022-12-01T13:54:37.203986Z",
     "iopub.status.idle": "2022-12-01T13:54:37.214811Z",
     "shell.execute_reply": "2022-12-01T13:54:37.213844Z"
    },
    "papermill": {
     "duration": 0.018421,
     "end_time": "2022-12-01T13:54:37.217318",
     "exception": false,
     "start_time": "2022-12-01T13:54:37.198897",
     "status": "completed"
    },
    "tags": []
   },
   "outputs": [],
   "source": [
    "train_features = train_df.drop([\"Transported\", \"Name\"] , axis = 1)\n",
    "train_target = train_df[[\"Transported\"]]\n",
    "\n",
    "val_features = val_df.loc[:, train_df.columns != \"Transported\"]\n",
    "val_target = val_df[[\"Transported\"]]"
   ]
  },
  {
   "cell_type": "code",
   "execution_count": 6,
   "id": "59b42153",
   "metadata": {
    "execution": {
     "iopub.execute_input": "2022-12-01T13:54:37.226596Z",
     "iopub.status.busy": "2022-12-01T13:54:37.226181Z",
     "iopub.status.idle": "2022-12-01T13:54:37.235172Z",
     "shell.execute_reply": "2022-12-01T13:54:37.233898Z"
    },
    "papermill": {
     "duration": 0.016155,
     "end_time": "2022-12-01T13:54:37.237413",
     "exception": false,
     "start_time": "2022-12-01T13:54:37.221258",
     "status": "completed"
    },
    "tags": []
   },
   "outputs": [],
   "source": [
    "boolean_preprocessing = pipeline.make_pipeline(\n",
    "    impute.SimpleImputer(strategy=\"most_frequent\"),\n",
    ")\n",
    "\n",
    "categorical_preprocessing = pipeline.make_pipeline(\n",
    "    impute.SimpleImputer(strategy=\"most_frequent\"),\n",
    "    preprocessing.OneHotEncoder(),\n",
    ")\n",
    "\n",
    "numeric_preprocessing = pipeline.make_pipeline(\n",
    "    impute.SimpleImputer(strategy=\"mean\")\n",
    ")\n",
    "\n",
    "data_preprocessing = compose.make_column_transformer(\n",
    "    (boolean_preprocessing, [\"CryoSleep\", \"VIP\"]),\n",
    "    (categorical_preprocessing, [\"HomePlanet\", \"Destination\"]),\n",
    "    (numeric_preprocessing, compose.make_column_selector(dtype_include=np.float64)),\n",
    "    remainder = \"drop\",\n",
    ")"
   ]
  },
  {
   "cell_type": "code",
   "execution_count": 7,
   "id": "ce055c18",
   "metadata": {
    "execution": {
     "iopub.execute_input": "2022-12-01T13:54:37.247058Z",
     "iopub.status.busy": "2022-12-01T13:54:37.246634Z",
     "iopub.status.idle": "2022-12-01T13:54:37.309026Z",
     "shell.execute_reply": "2022-12-01T13:54:37.307708Z"
    },
    "papermill": {
     "duration": 0.070456,
     "end_time": "2022-12-01T13:54:37.311763",
     "exception": false,
     "start_time": "2022-12-01T13:54:37.241307",
     "status": "completed"
    },
    "tags": []
   },
   "outputs": [],
   "source": [
    "GradientBoostingClassifier?"
   ]
  },
  {
   "cell_type": "code",
   "execution_count": 8,
   "id": "f2a14ed7",
   "metadata": {
    "execution": {
     "iopub.execute_input": "2022-12-01T13:54:37.321528Z",
     "iopub.status.busy": "2022-12-01T13:54:37.320323Z",
     "iopub.status.idle": "2022-12-01T13:54:38.242859Z",
     "shell.execute_reply": "2022-12-01T13:54:38.242185Z"
    },
    "papermill": {
     "duration": 0.930678,
     "end_time": "2022-12-01T13:54:38.246189",
     "exception": false,
     "start_time": "2022-12-01T13:54:37.315511",
     "status": "completed"
    },
    "tags": []
   },
   "outputs": [
    {
     "name": "stderr",
     "output_type": "stream",
     "text": [
      "/opt/conda/lib/python3.7/site-packages/sklearn/ensemble/_gb.py:494: DataConversionWarning: A column-vector y was passed when a 1d array was expected. Please change the shape of y to (n_samples, ), for example using ravel().\n",
      "  y = column_or_1d(y, warn=True)\n"
     ]
    },
    {
     "name": "stdout",
     "output_type": "stream",
     "text": [
      "              precision    recall  f1-score   support\n",
      "\n",
      "       False       0.76      0.84      0.80      3543\n",
      "        True       0.85      0.78      0.82      4280\n",
      "\n",
      "    accuracy                           0.81      7823\n",
      "   macro avg       0.81      0.81      0.81      7823\n",
      "weighted avg       0.81      0.81      0.81      7823\n",
      "\n"
     ]
    }
   ],
   "source": [
    "_seed = 42\n",
    "_hyperparameters = {\n",
    "   \n",
    "    \"loss\": 'deviance',\n",
    "    \"learning_rate\": 0.09,\n",
    "    \"n_estimators\": 100,\n",
    "    \"subsample\": 1.0,\n",
    "    \"criterion\": 'friedman_mse',\n",
    "    \"min_samples_split\": 2,\n",
    "    \"min_samples_leaf\": 1,\n",
    "    \"min_weight_fraction_leaf\": 0.0,\n",
    "    \"max_depth\": 3,\n",
    "    \"min_impurity_decrease\": 0.0,\n",
    "    \"init\": None,\n",
    "    \"random_state\": None,\n",
    "    \"max_features\": None,\n",
    "    \"verbose\": 0,\n",
    "    \"max_leaf_nodes\": None,\n",
    "    \"warm_start\": False,\n",
    "    \"validation_fraction\": 0.1,\n",
    "    \"n_iter_no_change\": None,\n",
    "    \"tol\": 0.0001,\n",
    "    \"ccp_alpha\": 0.0,\n",
    "}\n",
    "estimator = GradientBoostingClassifier(**_hyperparameters)\n",
    "\n",
    "ml_pipeline = pipeline.make_pipeline(\n",
    "    data_preprocessing,\n",
    "    estimator\n",
    ")\n",
    "_ = ml_pipeline.fit(train_features, train_target)\n",
    "\n",
    "_train_predictions = ml_pipeline.predict(train_features)\n",
    "_report = metrics.classification_report(\n",
    "    _train_predictions,\n",
    "    train_target\n",
    ")\n",
    "print(_report)"
   ]
  },
  {
   "cell_type": "code",
   "execution_count": 9,
   "id": "44cee4b8",
   "metadata": {
    "execution": {
     "iopub.execute_input": "2022-12-01T13:54:38.256522Z",
     "iopub.status.busy": "2022-12-01T13:54:38.255335Z",
     "iopub.status.idle": "2022-12-01T13:54:38.277743Z",
     "shell.execute_reply": "2022-12-01T13:54:38.276764Z"
    },
    "papermill": {
     "duration": 0.029634,
     "end_time": "2022-12-01T13:54:38.280241",
     "exception": false,
     "start_time": "2022-12-01T13:54:38.250607",
     "status": "completed"
    },
    "tags": []
   },
   "outputs": [],
   "source": [
    "# Q3: load the testing features\n",
    "test_features = pd.read_csv(\n",
    "    INPUT_DIR / \"test.csv\",\n",
    "    index_col=\"PassengerId\",\n",
    ")"
   ]
  },
  {
   "cell_type": "code",
   "execution_count": 10,
   "id": "8a24c8ba",
   "metadata": {
    "execution": {
     "iopub.execute_input": "2022-12-01T13:54:38.288848Z",
     "iopub.status.busy": "2022-12-01T13:54:38.288467Z",
     "iopub.status.idle": "2022-12-01T13:54:38.315061Z",
     "shell.execute_reply": "2022-12-01T13:54:38.313976Z"
    },
    "papermill": {
     "duration": 0.034029,
     "end_time": "2022-12-01T13:54:38.317986",
     "exception": false,
     "start_time": "2022-12-01T13:54:38.283957",
     "status": "completed"
    },
    "tags": []
   },
   "outputs": [],
   "source": [
    "predictions = ml_pipeline.predict(test_features)"
   ]
  },
  {
   "cell_type": "code",
   "execution_count": 11,
   "id": "8384d24f",
   "metadata": {
    "execution": {
     "iopub.execute_input": "2022-12-01T13:54:38.327325Z",
     "iopub.status.busy": "2022-12-01T13:54:38.326942Z",
     "iopub.status.idle": "2022-12-01T13:54:38.339171Z",
     "shell.execute_reply": "2022-12-01T13:54:38.338160Z"
    },
    "papermill": {
     "duration": 0.019845,
     "end_time": "2022-12-01T13:54:38.341847",
     "exception": false,
     "start_time": "2022-12-01T13:54:38.322002",
     "status": "completed"
    },
    "tags": []
   },
   "outputs": [],
   "source": [
    "# Q4: load the sample submission file!\n",
    "sample_submission_df = pd.read_csv(\n",
    "    INPUT_DIR / \"sample_submission.csv\",\n",
    "    index_col=\"PassengerId\"\n",
    ")"
   ]
  },
  {
   "cell_type": "code",
   "execution_count": 12,
   "id": "fd227df1",
   "metadata": {
    "execution": {
     "iopub.execute_input": "2022-12-01T13:54:38.351320Z",
     "iopub.status.busy": "2022-12-01T13:54:38.350427Z",
     "iopub.status.idle": "2022-12-01T13:54:38.363385Z",
     "shell.execute_reply": "2022-12-01T13:54:38.362117Z"
    },
    "papermill": {
     "duration": 0.020236,
     "end_time": "2022-12-01T13:54:38.365964",
     "exception": false,
     "start_time": "2022-12-01T13:54:38.345728",
     "status": "completed"
    },
    "tags": []
   },
   "outputs": [],
   "source": [
    "_ = (pd.DataFrame({\"Transported\": predictions}, index=sample_submission_df.index)\n",
    "       .to_csv(WORKING_DIR / \"submission.csv\"))    "
   ]
  },
  {
   "cell_type": "code",
   "execution_count": 13,
   "id": "82d13b28",
   "metadata": {
    "execution": {
     "iopub.execute_input": "2022-12-01T13:54:38.375823Z",
     "iopub.status.busy": "2022-12-01T13:54:38.374634Z",
     "iopub.status.idle": "2022-12-01T13:54:38.647021Z",
     "shell.execute_reply": "2022-12-01T13:54:38.646118Z"
    },
    "papermill": {
     "duration": 0.279396,
     "end_time": "2022-12-01T13:54:38.649186",
     "exception": false,
     "start_time": "2022-12-01T13:54:38.369790",
     "status": "completed"
    },
    "tags": []
   },
   "outputs": [
    {
     "name": "stdout",
     "output_type": "stream",
     "text": [
      "PassengerId,Transported\r\n",
      "0013_01,True\r\n",
      "0018_01,False\r\n",
      "0019_01,True\r\n",
      "0021_01,True\r\n",
      "0023_01,True\r\n",
      "0027_01,True\r\n",
      "0029_01,True\r\n",
      "0032_01,True\r\n",
      "0032_02,True\r\n"
     ]
    }
   ],
   "source": [
    "!cat $WORKING_DIR/submission.csv | head"
   ]
  }
 ],
 "metadata": {
  "kernelspec": {
   "display_name": "Python 3",
   "language": "python",
   "name": "python3"
  },
  "language_info": {
   "codemirror_mode": {
    "name": "ipython",
    "version": 3
   },
   "file_extension": ".py",
   "mimetype": "text/x-python",
   "name": "python",
   "nbconvert_exporter": "python",
   "pygments_lexer": "ipython3",
   "version": "3.7.12"
  },
  "papermill": {
   "default_parameters": {},
   "duration": 15.163337,
   "end_time": "2022-12-01T13:54:39.875705",
   "environment_variables": {},
   "exception": null,
   "input_path": "__notebook__.ipynb",
   "output_path": "__notebook__.ipynb",
   "parameters": {},
   "start_time": "2022-12-01T13:54:24.712368",
   "version": "2.3.4"
  }
 },
 "nbformat": 4,
 "nbformat_minor": 5
}
